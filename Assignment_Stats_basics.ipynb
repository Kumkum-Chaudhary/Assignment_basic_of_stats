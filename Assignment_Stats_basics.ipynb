{
  "nbformat": 4,
  "nbformat_minor": 0,
  "metadata": {
    "colab": {
      "provenance": []
    },
    "kernelspec": {
      "name": "python3",
      "display_name": "Python 3"
    },
    "language_info": {
      "name": "python"
    }
  },
  "cells": [
    {
      "cell_type": "code",
      "execution_count": null,
      "metadata": {
        "id": "QUNNcDFS8Usa"
      },
      "outputs": [],
      "source": [
        "# 1. Explain the different types of data (qualitative and quantitative) and provide examples of each. Discuss\n",
        "#    nominal, ordinal, interval, and ratio scales.\n",
        "\n",
        "# ans :\n",
        "# There are 2 different type of data in SQL :\n",
        "# 1. Qualitative data >> this data is categorical data which doesn't include numercal data so no arithmetic calculation or arithmetical insights will be taken from this data.\n",
        "#    It is also divided into two parts:\n",
        "#       1.nominal : it means here the data is not in order natruallly\n",
        "#            eg: Gender >> we can't say male is better than female.\n",
        "#       2.ordinal : it means the data is in order\n",
        "#            eg: Rank (1,2,3) >> natrually we can say 1 is better than 2 and 2 is better than 3\n",
        "\n",
        "# 2. Quantative data >> it contains the numerical data so arithmetic calculation or arithmetical insights will be taken from this data.\n",
        "#    It is also divided into two parts:\n",
        "#      1. interval : This type of data has meaningful intervals between values, but does not have a true zero point.\n",
        "#              eg: Temperature in Celsius or Fahrenheit — The difference between 10°C and 20°C is the same as between 20°C and 30°C, but 0°C does not indicate the absence of temperature.\n",
        "#      2. ratio sacles : This type of data has both meaningful intervals and a true zero point, allowing for comparisons of absolute magnitude.\n",
        "#              eg: Height or weight — A height of 0 cm means there is no height, and we can say that 180 cm is twice as tall as 90 cm."
      ]
    },
    {
      "cell_type": "code",
      "source": [],
      "metadata": {
        "id": "aZ3w4Th8O74m"
      },
      "execution_count": null,
      "outputs": []
    },
    {
      "cell_type": "code",
      "source": [
        "# 2. What are the measures of central tendency, and when should you use each? Discuss the mean, median,\n",
        "#    and mode with examples and situations where each is appropriate.\n",
        "# ans:\n",
        "# The measure of central tendency tells about the central value of the data or the value through which data can be represented or insights can be known about the data.\n",
        "# It includes 3 measures :\n",
        "# 1. MEAN : it is the average value of the data , and is calculated by sum of all the data value divided by no of values in data.\n",
        "#           this value helps in further gaining insights from data like correlation etc, it is affected by outliers.\n",
        "#           use case : if data is continious and no outlier are present then mean value can be placed at place of null values\n",
        "# eg :\n",
        "import numpy as np\n",
        "no_of_stud = [23,13,45,67,13,98,56,33]\n",
        "m = round(np.mean(no_of_stud),3)\n",
        "print(\"mean is :\",m)\n",
        "\n",
        "# 2. MEDIAN : it tells about the physical mid point of data, first data is sorted\n",
        "#             let count is no of values in data , if count is even then the avg of two middle values will be the median else for odd count the middle will be the median.\n",
        "#             it is not affected by outlier\n",
        "#eg:\n",
        "me = np.median(no_of_stud)\n",
        "print(\"median is :\", me)\n",
        "\n",
        "# 3. MODE : it is the number who have maximum frequency in the data.\n",
        "#           eg:  2 3 4 1 1 4 4 4 3 4 2 >> which no is repeated highest no of times >> 4\n",
        "#                mode = 4\n",
        "import statistics\n",
        "print(\"mode is :\" , statistics.mode(no_of_stud))"
      ],
      "metadata": {
        "colab": {
          "base_uri": "https://localhost:8080/"
        },
        "id": "ELECLshdAX87",
        "outputId": "1b45f0e4-ccdf-47fb-9720-f73253f7f8c2"
      },
      "execution_count": null,
      "outputs": [
        {
          "output_type": "stream",
          "name": "stdout",
          "text": [
            "mean is : 43.5\n",
            "median is : 39.0\n",
            "mode is : 13\n"
          ]
        }
      ]
    },
    {
      "cell_type": "code",
      "source": [],
      "metadata": {
        "id": "Ynayg8KfO9Kv"
      },
      "execution_count": null,
      "outputs": []
    },
    {
      "cell_type": "code",
      "source": [
        "# 3. Explain the concept of dispersion. How do variance and standard deviation measure the spread of data?\n",
        "# ans:\n",
        "# Dispersion tells about how the data is spreaded\n",
        "# sample1(s1) = 1,2,3,4,5 >> mean/median = 3\n",
        "# sample2(s2) = 3,3,3,3,3 >> mean/median = 3\n",
        "# can we say both s1 and s2 are same ? >> NOOO (bcz both are represented or spreaded in different ways)\n",
        "# how the data is spread is calculated by following :\n",
        "# 1. Range\n",
        "# 2. percentage and percentile\n",
        "# 3. Quartiles(box plot)\n",
        "# 4. variance\n",
        "# 5. standard deviation\n",
        "import numpy as np\n",
        "data = [2,3,4,5,8,9,12,40,41,15]\n",
        "# 1. variance : it is the average of squared difference from the mean.\n",
        "# population variance is given by\n",
        "# sigma^2 = summ(xi - mu)^2/N  ; mu is population mean , N is no of elements.\n",
        "v = round(np.var(data),3)\n",
        "print('variance is : ',v)\n",
        "\n",
        "# 2. standard deviation : it is a measure of how spread out numbers are >> square root of variance\n",
        "sd = round(np.std(data),3)\n",
        "print('standard deviation is : ',sd)"
      ],
      "metadata": {
        "colab": {
          "base_uri": "https://localhost:8080/"
        },
        "id": "nmGXoTncDQiv",
        "outputId": "aa343302-23bd-4a42-ea61-14903abbc7c0"
      },
      "execution_count": null,
      "outputs": [
        {
          "output_type": "stream",
          "name": "stdout",
          "text": [
            "variance is :  191.69\n",
            "standard deviation is :  13.845\n"
          ]
        }
      ]
    },
    {
      "cell_type": "code",
      "source": [],
      "metadata": {
        "id": "HFtXUrHIPEuk"
      },
      "execution_count": null,
      "outputs": []
    },
    {
      "cell_type": "code",
      "source": [
        "# 4. What is a box plot, and what can it tell you about the distribution of data?\n",
        "# ans:\n",
        "# A box plot (or box-and-whisker plot) is a graphical representation of the distribution of a dataset.\n",
        "# It provides a visual summary of key statistical measures, including the median, quartiles, and potential outliers.\n",
        "\n",
        "# Components of a Box Plot:\n",
        "# Minimum(Q0): The smallest value in the dataset (excluding outliers).\n",
        "# First Quartile (Q1): The median of the lower half of the dataset, representing the 25th percentile.\n",
        "# Median (Q2): The middle value of the dataset, representing the 50th percentile.\n",
        "# Third Quartile (Q3): The median of the upper half of the dataset, representing the 75th percentile.\n",
        "# Maximum(Q4): The largest value in the dataset (excluding outliers).\n",
        "# Whiskers: Lines extending from the box to the minimum and maximum values within 1.5 times the interquartile range (IQR).\n",
        "# Outliers: Individual points that fall outside the whiskers, typically defined as values that are more than 1.5 times the IQR above Q3 or below Q1."
      ],
      "metadata": {
        "id": "m8mhlNkvLtTO"
      },
      "execution_count": null,
      "outputs": []
    },
    {
      "cell_type": "code",
      "source": [],
      "metadata": {
        "id": "UIL950VKPF7K"
      },
      "execution_count": null,
      "outputs": []
    },
    {
      "cell_type": "code",
      "source": [
        "# 5. Discuss the role of random sampling in making inferences about populations.\n",
        "# ans:\n",
        "# Random sampling gives equal oppourtinity to each member/point of the population to be a part of sample\n",
        "# Each person has 1/12 of being selected in the sample (population -> 12)\n",
        "# Importance:\n",
        "#   Ensures that the sample is not biased toward any particular group.\n",
        "#   Creates a representative sample that reflects the diversity of the entire population.\n",
        "#   Provides a solid foundation for making valid inferences and generalizations based on the sample data."
      ],
      "metadata": {
        "id": "7adUqCzOQcUL"
      },
      "execution_count": 1,
      "outputs": []
    },
    {
      "cell_type": "code",
      "source": [
        "# 6. Explain the concept of skewness and its types. How does skewness affect the interpretation of data?\n",
        "# ans:\n",
        "# Skewness define the measure of symmetricity.\n",
        "# skewness = (xi - mu)/n*sigma^3\n",
        "# inclined to some side:\n",
        "#   1. No skewness (no inclination/symmetric) >> skewness = 0 >> mean = median = mean > Q3-Q2 = Q2-Q1\n",
        "#   2. positive skewed data >> tail is on right side of distribution >> most of data lie on right side >eg. log-normal distn\n",
        "#              mean >= median >= mode   ::  Q2-Q1 <= Q3-Q2\n",
        "#   3. negative skewed data >> tail is on left side of distribution >> most of  data lie on left side\n",
        "#              mean <= median <= mode    ::  Q2-Q1 >= Q3-Q2\n",
        "# central point is the mode part"
      ],
      "metadata": {
        "id": "OHPXPJxZQci-"
      },
      "execution_count": 2,
      "outputs": []
    },
    {
      "cell_type": "code",
      "source": [
        "# 7. What is the interquartile range (IQR), and how is it used to detect outliers?\n",
        "# ans:\n",
        "# range = Q4 - Q0\n",
        "# IQR = Q3 - Q1  >> since IQR deals with Q3 and Q1, it is not affected by outliers.\n",
        "# 2 4 4 5 6 7 8 >> # Q1 = 4, Q3 = 7 >> # IQR = 7-4 = 3\n",
        "# after outlier\n",
        "# 2 4 4 5 6 7 800 >> # IQR = 7-4 = 3"
      ],
      "metadata": {
        "id": "zkRg-birP-6E"
      },
      "execution_count": 3,
      "outputs": []
    },
    {
      "cell_type": "code",
      "source": [
        "# 8. Discuss the conditions under which the binomial distribution is used.\n",
        "# ans:\n",
        "# there must be only two possible outcomes.\n",
        "# probability of each trial should be equal in all trial.\n",
        "# there must be finite number of trials.\n",
        "# Each trial should be independent."
      ],
      "metadata": {
        "id": "YQZ235rMSyZI"
      },
      "execution_count": 1,
      "outputs": []
    },
    {
      "cell_type": "code",
      "source": [
        "# 9. Explain the properties of the normal distribution and the empirical rule (68-95-99.7 rule).\n",
        "# ans:\n",
        "# Symmetry: The normal distribution is symmetric around its mean, with the left and right halves being mirror images.\n",
        "# Bell-shaped Curve: The curve is bell-shaped, where most data points cluster around the mean, and the probabilities decrease as you move away from the mean.\n",
        "# Mean, Median, Mode: In a normal distribution, the mean, median, and mode are all equal and located at the center of the distribution.\n",
        "# Asymptotic: The tails of the curve approach but never touch the horizontal axis, extending infinitely in both directions.\n",
        "# Defined by Mean and Standard Deviation: The shape and spread of the curve are determined by the mean (center) and standard deviation (spread).\n",
        "\n",
        "# Empirical Rule (68-95-99.7 Rule): This rule applies to normal distributions and states the following:\n",
        "# 68% of the data falls within 1 standard deviation of the mean.\n",
        "# 95% of the data falls within 2 standard deviations of the mean.\n",
        "# 99.7% of the data falls within 3 standard deviations of the mean."
      ],
      "metadata": {
        "id": "K-ZzPP-0S5EY"
      },
      "execution_count": 2,
      "outputs": []
    },
    {
      "cell_type": "code",
      "source": [
        "# 10. Provide a real-life example of a Poisson process and calculate the probability for a specific event.\n",
        "# ans:\n",
        "# A call center receives an average of 5 calls per minute. What is the probability of receiving exactly 3 calls in a minute?\n",
        "# P(X=k)= (e^−λ * λ^k)/ k!\n",
        "# Where:𝜆=5(average calls),, k=3 (desired number of calls).\n",
        "# Calculation:\n",
        "# p(x=3) = e^-5 * 5^3 / 3! ~ 0.14\n",
        "# Result:\n",
        "# The probability of receiving exactly 3 calls in a minute is 14%."
      ],
      "metadata": {
        "id": "7IHCj8VUS84z"
      },
      "execution_count": 4,
      "outputs": []
    },
    {
      "cell_type": "code",
      "source": [
        "# 11. Explain what a random variable is and differentiate between discrete and continuous random variables.\n",
        "# ans:\n",
        "# A random variable is the set of all random values from an experiment.\n",
        "# There are two types of random variable:\n",
        "# a. Discrete outcomes >> the outcomes which have only finite values\n",
        "#             >> Probability mass fucn - that fucn which captures the prob of a discrete outcome\n",
        "#          1. tossing a coin\n",
        "#          2. throwing a dice\n",
        "\n",
        "# b. continious outcomes >>\n",
        "#           >> Probability density fucn - that fucn which captures the prob of a continious outcome\n",
        "#         1. calculate the prob if a student height is below 170cm.>160,160.1,160.2"
      ],
      "metadata": {
        "id": "lEfhvMQhTB1s"
      },
      "execution_count": 5,
      "outputs": []
    },
    {
      "cell_type": "code",
      "source": [
        "# 12. Provide an example dataset, calculate both covariance and correlation, and interpret the results.\n",
        "# ans:\n",
        "# dataset :\n",
        "import numpy as np\n",
        "import pandas as pd\n",
        "data = {'Study Hours': [2, 4, 6, 8, 10],\n",
        "        'Exam Score': [50, 60, 65, 80, 90]}\n",
        "df = pd.DataFrame(data)\n",
        "print(df)\n",
        "cov_matrix = df.cov()\n",
        "# print(cov_matrix)\n",
        "cov_value = cov_matrix.loc['Study Hours', 'Exam Score']\n",
        "print(\"the covarance value is :\",cov_value)\n",
        "corr_matrix = df.corr()\n",
        "# print(corr_matrix)\n",
        "corr_value = corr_matrix.loc['Study Hours', 'Exam Score']\n",
        "print(\"the correlation value is :\",round(corr_value,3))\n",
        "# Interpretation:\n",
        "# Covariance: A positive covariance (20) suggests that Study Hours and Exam Scores increase together.\n",
        "# Correlation: The high correlation value (0.98) indicates a strong positive linear relationship between Study Hours and Exam Scores."
      ],
      "metadata": {
        "colab": {
          "base_uri": "https://localhost:8080/"
        },
        "id": "BibCuc0MTE2-",
        "outputId": "4b86b886-4164-4f45-9d67-945730c669dc"
      },
      "execution_count": 13,
      "outputs": [
        {
          "output_type": "stream",
          "name": "stdout",
          "text": [
            "   Study Hours  Exam Score\n",
            "0            2          50\n",
            "1            4          60\n",
            "2            6          65\n",
            "3            8          80\n",
            "4           10          90\n",
            "the covarance value is : 50.0\n",
            "the correlation value is : 0.99\n"
          ]
        }
      ]
    },
    {
      "cell_type": "code",
      "source": [],
      "metadata": {
        "id": "gKotwnpMtQa5"
      },
      "execution_count": null,
      "outputs": []
    }
  ]
}